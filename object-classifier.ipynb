{
 "cells": [
  {
   "cell_type": "markdown",
   "id": "b0020c91",
   "metadata": {},
   "source": [
    "# Object Classifier"
   ]
  },
  {
   "cell_type": "markdown",
   "id": "2edcd763",
   "metadata": {},
   "source": [
    "## Process images"
   ]
  },
  {
   "cell_type": "markdown",
   "id": "4317d69c",
   "metadata": {},
   "source": [
    "### Extract data from .7z files"
   ]
  },
  {
   "cell_type": "markdown",
   "id": "9d659ca1",
   "metadata": {},
   "source": [
    "**Instructions**\n",
    "\n",
    "1. Download the dataset from the following link: https://www.kaggle.com/c/cifar-10\n",
    "2. Extract the dataset into a directory named `data`.\n",
    "3. Run this notebook.\n"
   ]
  },
  {
   "cell_type": "code",
   "execution_count": null,
   "id": "03d3cabe",
   "metadata": {},
   "outputs": [
    {
     "name": "stdout",
     "output_type": "stream",
     "text": [
      "Dataset extracted successfully\n"
     ]
    }
   ],
   "source": [
    "from zipfile import ZipFile\n",
    "dataset = ZipFile('data/cifar-10.zip')\n",
    "dataset.extractall(path='data')\n",
    "dataset.close()\n",
    "print(\"Dataset extracted successfully\")"
   ]
  },
  {
   "cell_type": "code",
   "execution_count": null,
   "id": "66491243",
   "metadata": {},
   "outputs": [],
   "source": [
    "import py7zr\n",
    "\n",
    "archive = py7zr.SevenZipFile('data/train.7z', mode='r')\n",
    "archive.extractall(path='data')\n",
    "archive.close()\n",
    "train_file_location='data/train'\n",
    "\n",
    "archive = py7zr.SevenZipFile('data/test.7z', mode='r')\n",
    "archive.extractall(path='data')\n",
    "archive.close()\n",
    "test_file_location='data/test'\n"
   ]
  },
  {
   "cell_type": "code",
   "execution_count": 3,
   "id": "11d38b97",
   "metadata": {},
   "outputs": [],
   "source": [
    "#imports\n",
    "import os\n",
    "import numpy as np\n",
    "import pandas as pd\n",
    "from PIL import Image\n",
    "import matplotlib.pyplot as plt\n",
    "import matplotlib.image as mpimg\n",
    "from sklearn.model_selection import train_test_split"
   ]
  },
  {
   "cell_type": "code",
   "execution_count": 4,
   "id": "90786678",
   "metadata": {},
   "outputs": [
    {
     "name": "stdout",
     "output_type": "stream",
     "text": [
      "50000\n"
     ]
    }
   ],
   "source": [
    "filenames = os.listdir(\"data/train\")\n",
    "print(len(filenames))"
   ]
  },
  {
   "cell_type": "markdown",
   "id": "b483bf8f",
   "metadata": {},
   "source": [
    "### Process Data"
   ]
  },
  {
   "cell_type": "code",
   "execution_count": 15,
   "id": "7ef97988",
   "metadata": {},
   "outputs": [],
   "source": [
    "def get_image_as_array(path):\n",
    "    try:\n",
    "        image = Image.open(path)\n",
    "        return np.array(image)\n",
    "    except:\n",
    "        return None\n",
    "\n",
    "df = pd.read_csv('data/trainLabels.csv')\n",
    "df['image'] = df['id'].apply(lambda x: get_image_as_array(f'data/train/{x}.png'))\n",
    "\n",
    "\n",
    "\n"
   ]
  },
  {
   "cell_type": "code",
   "execution_count": 40,
   "id": "f21c32e8",
   "metadata": {},
   "outputs": [
    {
     "data": {
      "text/html": [
       "<div>\n",
       "<style scoped>\n",
       "    .dataframe tbody tr th:only-of-type {\n",
       "        vertical-align: middle;\n",
       "    }\n",
       "\n",
       "    .dataframe tbody tr th {\n",
       "        vertical-align: top;\n",
       "    }\n",
       "\n",
       "    .dataframe thead th {\n",
       "        text-align: right;\n",
       "    }\n",
       "</style>\n",
       "<table border=\"1\" class=\"dataframe\">\n",
       "  <thead>\n",
       "    <tr style=\"text-align: right;\">\n",
       "      <th></th>\n",
       "      <th>id</th>\n",
       "      <th>label</th>\n",
       "      <th>image</th>\n",
       "    </tr>\n",
       "  </thead>\n",
       "  <tbody>\n",
       "    <tr>\n",
       "      <th>0</th>\n",
       "      <td>1</td>\n",
       "      <td>0</td>\n",
       "      <td>[[[0.23137254901960785, 0.24313725490196078, 0...</td>\n",
       "    </tr>\n",
       "    <tr>\n",
       "      <th>1</th>\n",
       "      <td>2</td>\n",
       "      <td>1</td>\n",
       "      <td>[[[0.6039215686274509, 0.6941176470588235, 0.7...</td>\n",
       "    </tr>\n",
       "    <tr>\n",
       "      <th>2</th>\n",
       "      <td>3</td>\n",
       "      <td>1</td>\n",
       "      <td>[[[1.0, 1.0, 1.0], [0.9921568627450981, 0.9921...</td>\n",
       "    </tr>\n",
       "    <tr>\n",
       "      <th>3</th>\n",
       "      <td>4</td>\n",
       "      <td>2</td>\n",
       "      <td>[[[0.10980392156862745, 0.09803921568627451, 0...</td>\n",
       "    </tr>\n",
       "    <tr>\n",
       "      <th>4</th>\n",
       "      <td>5</td>\n",
       "      <td>3</td>\n",
       "      <td>[[[0.6666666666666666, 0.7058823529411765, 0.7...</td>\n",
       "    </tr>\n",
       "  </tbody>\n",
       "</table>\n",
       "</div>"
      ],
      "text/plain": [
       "   id  label                                              image\n",
       "0   1      0  [[[0.23137254901960785, 0.24313725490196078, 0...\n",
       "1   2      1  [[[0.6039215686274509, 0.6941176470588235, 0.7...\n",
       "2   3      1  [[[1.0, 1.0, 1.0], [0.9921568627450981, 0.9921...\n",
       "3   4      2  [[[0.10980392156862745, 0.09803921568627451, 0...\n",
       "4   5      3  [[[0.6666666666666666, 0.7058823529411765, 0.7..."
      ]
     },
     "execution_count": 40,
     "metadata": {},
     "output_type": "execute_result"
    }
   ],
   "source": [
    "df.head()"
   ]
  },
  {
   "cell_type": "code",
   "execution_count": 17,
   "id": "6bb04147",
   "metadata": {},
   "outputs": [],
   "source": [
    "df.dropna(inplace=True, subset=['image'])"
   ]
  },
  {
   "cell_type": "code",
   "execution_count": null,
   "id": "9fec8678",
   "metadata": {},
   "outputs": [
    {
     "data": {
      "text/plain": [
       "(49999, 3)"
      ]
     },
     "execution_count": 18,
     "metadata": {},
     "output_type": "execute_result"
    }
   ],
   "source": [
    "df.shape"
   ]
  },
  {
   "cell_type": "code",
   "execution_count": 19,
   "id": "d68663c6",
   "metadata": {},
   "outputs": [
    {
     "name": "stdout",
     "output_type": "stream",
     "text": [
      "['frog' 'truck' 'deer' 'automobile' 'bird' 'horse' 'ship' 'cat' 'dog'\n",
      " 'airplane']\n"
     ]
    }
   ],
   "source": [
    "object_classes = df['label'].unique()\n",
    "print(object_classes)"
   ]
  },
  {
   "cell_type": "code",
   "execution_count": 20,
   "id": "d429fd52",
   "metadata": {},
   "outputs": [
    {
     "name": "stdout",
     "output_type": "stream",
     "text": [
      "label\n",
      "frog          5000\n",
      "truck         5000\n",
      "deer          5000\n",
      "bird          5000\n",
      "horse         5000\n",
      "ship          5000\n",
      "cat           5000\n",
      "dog           5000\n",
      "airplane      5000\n",
      "automobile    4999\n",
      "Name: count, dtype: int64\n"
     ]
    }
   ],
   "source": [
    "\n",
    "\n",
    "entries_per_class = df['label'].value_counts()\n",
    "print(entries_per_class) # no need to standardize or scale"
   ]
  },
  {
   "cell_type": "code",
   "execution_count": 21,
   "id": "c902e068",
   "metadata": {},
   "outputs": [
    {
     "name": "stdout",
     "output_type": "stream",
     "text": [
      "{'frog': 0, 'truck': 1, 'deer': 2, 'automobile': 3, 'bird': 4, 'horse': 5, 'ship': 6, 'cat': 7, 'dog': 8, 'airplane': 9}\n"
     ]
    }
   ],
   "source": [
    "# labels_dictionary = dict(enumerate(object_classes))\n",
    "# print(labels_dictionary)\n",
    "labels_map = {}\n",
    "for index, item in enumerate(object_classes):\n",
    "    labels_map[item] = index\n",
    "\n",
    "print(labels_map)"
   ]
  },
  {
   "cell_type": "code",
   "execution_count": 22,
   "id": "e59ff25d",
   "metadata": {},
   "outputs": [
    {
     "data": {
      "text/plain": [
       "(49999, 3)"
      ]
     },
     "execution_count": 22,
     "metadata": {},
     "output_type": "execute_result"
    }
   ],
   "source": [
    "df['label'] = df['label'].map(labels_map)\n",
    "df['image'] = df['image']/255\n",
    "df.head()\n",
    "df.shape"
   ]
  },
  {
   "cell_type": "code",
   "execution_count": 23,
   "id": "966d05fd",
   "metadata": {},
   "outputs": [
    {
     "name": "stdout",
     "output_type": "stream",
     "text": [
      "(39999, 3)\n",
      "(10000, 3)\n"
     ]
    }
   ],
   "source": [
    "num_rows_80_percent = int(len(df) * 0.8)\n",
    "\n",
    "train = df.iloc[:num_rows_80_percent]\n",
    "test = df.iloc[num_rows_80_percent:]\n",
    "\n",
    "print(train.shape)\n",
    "print(test.shape)\n"
   ]
  },
  {
   "cell_type": "code",
   "execution_count": 41,
   "id": "64192136",
   "metadata": {},
   "outputs": [
    {
     "name": "stdout",
     "output_type": "stream",
     "text": [
      "X_train.shape:  (39999, 32, 32, 3)\n",
      "Y_train.shape:  (39999,)\n",
      "X_test.shape:  (10000, 32, 32, 3)\n",
      "Y_test.shape:  (10000,)\n"
     ]
    }
   ],
   "source": [
    "X_train = np.stack(X_train).astype(\"float32\")   # shape: (N, 32, 32, 3)\n",
    "X_test  = np.stack(X_test).astype(\"float32\")\n",
    "\n",
    "Y_train = np.array(Y_train, dtype=\"int32\")      # shape: (N,)\n",
    "Y_test  = np.array(Y_test, dtype=\"int32\")\n",
    "\n",
    "print(\"X_train.shape: \", X_train.shape)\n",
    "print(\"Y_train.shape: \", Y_train.shape)\n",
    "\n",
    "print(\"X_test.shape: \", X_test.shape)\n",
    "print(\"Y_test.shape: \", Y_test.shape)\n",
    "\n",
    "\n",
    "\n"
   ]
  },
  {
   "cell_type": "markdown",
   "id": "cd4d5ae4",
   "metadata": {},
   "source": [
    "## Create Neural Net"
   ]
  },
  {
   "cell_type": "markdown",
   "id": "7ca8d084",
   "metadata": {},
   "source": [
    "We shall create the Neural Network"
   ]
  },
  {
   "cell_type": "code",
   "execution_count": 28,
   "id": "d3f2dc1e",
   "metadata": {},
   "outputs": [
    {
     "name": "stderr",
     "output_type": "stream",
     "text": [
      "/Users/ansinha/Library/Python/3.9/lib/python/site-packages/urllib3/__init__.py:35: NotOpenSSLWarning: urllib3 v2 only supports OpenSSL 1.1.1+, currently the 'ssl' module is compiled with 'LibreSSL 2.8.3'. See: https://github.com/urllib3/urllib3/issues/3020\n",
      "  warnings.warn(\n"
     ]
    }
   ],
   "source": [
    "import tensorflow as tf\n",
    "from tensorflow import keras\n",
    "\n"
   ]
  },
  {
   "cell_type": "markdown",
   "id": "72ad590b",
   "metadata": {},
   "source": [
    "#### Setting up layers"
   ]
  },
  {
   "cell_type": "code",
   "execution_count": 42,
   "id": "d24f9055",
   "metadata": {},
   "outputs": [],
   "source": [
    "num_of_classes = len(object_classes)\n",
    "\n",
    "#setting up layers\n",
    "\n",
    "inputs = keras.Input(shape=(32, 32, 3))\n",
    "x = keras.layers.Flatten()(inputs)\n",
    "x = keras.layers.Dense(64, activation='relu')(x)\n",
    "outputs = keras.layers.Dense(num_of_classes, activation='softmax')(x)\n",
    "\n",
    "model = keras.Model(inputs=inputs, outputs=outputs)"
   ]
  },
  {
   "cell_type": "code",
   "execution_count": 43,
   "id": "c652dab4",
   "metadata": {},
   "outputs": [],
   "source": [
    "model.compile(\n",
    "    optimizer='adam', \n",
    "    loss='sparse_categorical_crossentropy', # The data is not one hot encoded\n",
    "    metrics=['accuracy'])"
   ]
  },
  {
   "cell_type": "code",
   "execution_count": 45,
   "id": "957a0416",
   "metadata": {},
   "outputs": [
    {
     "name": "stdout",
     "output_type": "stream",
     "text": [
      "Epoch 1/10\n",
      "\u001b[1m1000/1000\u001b[0m \u001b[32m━━━━━━━━━━━━━━━━━━━━\u001b[0m\u001b[37m\u001b[0m \u001b[1m1s\u001b[0m 1ms/step - accuracy: 0.3447 - loss: 1.8058 - val_accuracy: 0.3451 - val_loss: 1.8013\n",
      "Epoch 2/10\n",
      "\u001b[1m1000/1000\u001b[0m \u001b[32m━━━━━━━━━━━━━━━━━━━━\u001b[0m\u001b[37m\u001b[0m \u001b[1m1s\u001b[0m 1ms/step - accuracy: 0.3502 - loss: 1.7913 - val_accuracy: 0.3415 - val_loss: 1.7957\n",
      "Epoch 3/10\n",
      "\u001b[1m1000/1000\u001b[0m \u001b[32m━━━━━━━━━━━━━━━━━━━━\u001b[0m\u001b[37m\u001b[0m \u001b[1m1s\u001b[0m 1ms/step - accuracy: 0.3505 - loss: 1.7855 - val_accuracy: 0.3479 - val_loss: 1.7936\n",
      "Epoch 4/10\n",
      "\u001b[1m1000/1000\u001b[0m \u001b[32m━━━━━━━━━━━━━━━━━━━━\u001b[0m\u001b[37m\u001b[0m \u001b[1m1s\u001b[0m 1ms/step - accuracy: 0.3579 - loss: 1.7685 - val_accuracy: 0.3426 - val_loss: 1.8075\n",
      "Epoch 5/10\n",
      "\u001b[1m1000/1000\u001b[0m \u001b[32m━━━━━━━━━━━━━━━━━━━━\u001b[0m\u001b[37m\u001b[0m \u001b[1m1s\u001b[0m 1ms/step - accuracy: 0.3579 - loss: 1.7605 - val_accuracy: 0.3359 - val_loss: 1.8207\n",
      "Epoch 6/10\n",
      "\u001b[1m1000/1000\u001b[0m \u001b[32m━━━━━━━━━━━━━━━━━━━━\u001b[0m\u001b[37m\u001b[0m \u001b[1m1s\u001b[0m 1ms/step - accuracy: 0.3612 - loss: 1.7613 - val_accuracy: 0.3492 - val_loss: 1.7888\n",
      "Epoch 7/10\n",
      "\u001b[1m1000/1000\u001b[0m \u001b[32m━━━━━━━━━━━━━━━━━━━━\u001b[0m\u001b[37m\u001b[0m \u001b[1m1s\u001b[0m 1ms/step - accuracy: 0.3542 - loss: 1.7618 - val_accuracy: 0.3481 - val_loss: 1.8070\n",
      "Epoch 8/10\n",
      "\u001b[1m1000/1000\u001b[0m \u001b[32m━━━━━━━━━━━━━━━━━━━━\u001b[0m\u001b[37m\u001b[0m \u001b[1m1s\u001b[0m 1ms/step - accuracy: 0.3649 - loss: 1.7533 - val_accuracy: 0.3289 - val_loss: 1.8273\n",
      "Epoch 9/10\n",
      "\u001b[1m1000/1000\u001b[0m \u001b[32m━━━━━━━━━━━━━━━━━━━━\u001b[0m\u001b[37m\u001b[0m \u001b[1m1s\u001b[0m 1ms/step - accuracy: 0.3626 - loss: 1.7507 - val_accuracy: 0.3469 - val_loss: 1.7887\n",
      "Epoch 10/10\n",
      "\u001b[1m1000/1000\u001b[0m \u001b[32m━━━━━━━━━━━━━━━━━━━━\u001b[0m\u001b[37m\u001b[0m \u001b[1m1s\u001b[0m 1ms/step - accuracy: 0.3689 - loss: 1.7476 - val_accuracy: 0.3565 - val_loss: 1.7875\n"
     ]
    }
   ],
   "source": [
    "history=model.fit(X_train,Y_train, validation_split=0.2, epochs=10)"
   ]
  },
  {
   "cell_type": "markdown",
   "id": "9ac50443",
   "metadata": {},
   "source": [
    "## Using Transfer Learning"
   ]
  },
  {
   "cell_type": "code",
   "execution_count": null,
   "id": "97b15fc3",
   "metadata": {},
   "outputs": [],
   "source": []
  },
  {
   "cell_type": "code",
   "execution_count": null,
   "id": "b3bdc7b6",
   "metadata": {},
   "outputs": [],
   "source": [
    "convolutional_base = ResNet50"
   ]
  }
 ],
 "metadata": {
  "kernelspec": {
   "display_name": "Python 3",
   "language": "python",
   "name": "python3"
  },
  "language_info": {
   "codemirror_mode": {
    "name": "ipython",
    "version": 3
   },
   "file_extension": ".py",
   "mimetype": "text/x-python",
   "name": "python",
   "nbconvert_exporter": "python",
   "pygments_lexer": "ipython3",
   "version": "3.9.6"
  }
 },
 "nbformat": 4,
 "nbformat_minor": 5
}
