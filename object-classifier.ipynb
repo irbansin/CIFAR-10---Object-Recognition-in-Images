{
 "cells": [
  {
   "cell_type": "markdown",
   "id": "b0020c91",
   "metadata": {},
   "source": [
    "# Object Classifier"
   ]
  },
  {
   "cell_type": "markdown",
   "id": "2edcd763",
   "metadata": {},
   "source": [
    "## Process images"
   ]
  },
  {
   "cell_type": "markdown",
   "id": "4317d69c",
   "metadata": {},
   "source": [
    "### Extract data from .7z files"
   ]
  },
  {
   "cell_type": "code",
   "execution_count": null,
   "id": "e7ac4609",
   "metadata": {},
   "outputs": [],
   "source": [
    "import os\n",
    "\n",
    "os.mkdir(\"data\")\n"
   ]
  },
  {
   "cell_type": "code",
   "execution_count": null,
   "id": "03d3cabe",
   "metadata": {},
   "outputs": [
    {
     "name": "stdout",
     "output_type": "stream",
     "text": [
      "Dataset extracted successfully\n"
     ]
    }
   ],
   "source": [
    "from zipfile import ZipFile\n",
    "dataset = ZipFile('data/cifar-10.zip')\n",
    "dataset.extractall(path='data')\n",
    "dataset.close()\n",
    "print(\"Dataset extracted successfully\")"
   ]
  },
  {
   "cell_type": "code",
   "execution_count": null,
   "id": "66491243",
   "metadata": {},
   "outputs": [],
   "source": [
    "import py7zr\n",
    "\n",
    "archive = py7zr.SevenZipFile('data/train.7z', mode='r')\n",
    "archive.extractall(path='data')\n",
    "archive.close()\n",
    "train_file_location='data/train'\n",
    "\n",
    "archive = py7zr.SevenZipFile('data/test.7z', mode='r')\n",
    "archive.extractall(path='data')\n",
    "archive.close()\n",
    "test_file_location='data/test'\n"
   ]
  },
  {
   "cell_type": "code",
   "execution_count": 3,
   "id": "11d38b97",
   "metadata": {},
   "outputs": [],
   "source": [
    "#imports\n",
    "import os\n",
    "import numpy as np\n",
    "import pandas as pd\n",
    "from PIL import Image\n",
    "import matplotlib.pyplot as plt\n",
    "import matplotlib.image as mpimg\n",
    "from sklearn.model_selection import train_test_split"
   ]
  },
  {
   "cell_type": "code",
   "execution_count": 4,
   "id": "90786678",
   "metadata": {},
   "outputs": [
    {
     "name": "stdout",
     "output_type": "stream",
     "text": [
      "50000\n"
     ]
    }
   ],
   "source": [
    "filenames = os.listdir(\"data/train\")\n",
    "print(len(filenames))"
   ]
  },
  {
   "cell_type": "markdown",
   "id": "b483bf8f",
   "metadata": {},
   "source": [
    "### Process Data"
   ]
  },
  {
   "cell_type": "code",
   "execution_count": 15,
   "id": "7ef97988",
   "metadata": {},
   "outputs": [],
   "source": [
    "def get_image_as_array(path):\n",
    "    try:\n",
    "        image = Image.open(path)\n",
    "        return np.array(image)\n",
    "    except:\n",
    "        return None\n",
    "\n",
    "df = pd.read_csv('data/trainLabels.csv')\n",
    "df['image'] = df['id'].apply(lambda x: get_image_as_array(f'data/train/{x}.png'))\n",
    "\n",
    "\n",
    "\n"
   ]
  },
  {
   "cell_type": "code",
   "execution_count": 16,
   "id": "f21c32e8",
   "metadata": {},
   "outputs": [
    {
     "data": {
      "text/html": [
       "<div>\n",
       "<style scoped>\n",
       "    .dataframe tbody tr th:only-of-type {\n",
       "        vertical-align: middle;\n",
       "    }\n",
       "\n",
       "    .dataframe tbody tr th {\n",
       "        vertical-align: top;\n",
       "    }\n",
       "\n",
       "    .dataframe thead th {\n",
       "        text-align: right;\n",
       "    }\n",
       "</style>\n",
       "<table border=\"1\" class=\"dataframe\">\n",
       "  <thead>\n",
       "    <tr style=\"text-align: right;\">\n",
       "      <th></th>\n",
       "      <th>id</th>\n",
       "      <th>label</th>\n",
       "      <th>image</th>\n",
       "    </tr>\n",
       "  </thead>\n",
       "  <tbody>\n",
       "    <tr>\n",
       "      <th>0</th>\n",
       "      <td>1</td>\n",
       "      <td>frog</td>\n",
       "      <td>[[[59, 62, 63], [43, 46, 45], [50, 48, 43], [6...</td>\n",
       "    </tr>\n",
       "    <tr>\n",
       "      <th>1</th>\n",
       "      <td>2</td>\n",
       "      <td>truck</td>\n",
       "      <td>[[[154, 177, 187], [126, 137, 136], [105, 104,...</td>\n",
       "    </tr>\n",
       "    <tr>\n",
       "      <th>2</th>\n",
       "      <td>3</td>\n",
       "      <td>truck</td>\n",
       "      <td>[[[255, 255, 255], [253, 253, 253], [253, 253,...</td>\n",
       "    </tr>\n",
       "    <tr>\n",
       "      <th>3</th>\n",
       "      <td>4</td>\n",
       "      <td>deer</td>\n",
       "      <td>[[[28, 25, 10], [37, 34, 19], [38, 35, 20], [4...</td>\n",
       "    </tr>\n",
       "    <tr>\n",
       "      <th>4</th>\n",
       "      <td>5</td>\n",
       "      <td>automobile</td>\n",
       "      <td>[[[170, 180, 198], [168, 178, 196], [177, 185,...</td>\n",
       "    </tr>\n",
       "  </tbody>\n",
       "</table>\n",
       "</div>"
      ],
      "text/plain": [
       "   id       label                                              image\n",
       "0   1        frog  [[[59, 62, 63], [43, 46, 45], [50, 48, 43], [6...\n",
       "1   2       truck  [[[154, 177, 187], [126, 137, 136], [105, 104,...\n",
       "2   3       truck  [[[255, 255, 255], [253, 253, 253], [253, 253,...\n",
       "3   4        deer  [[[28, 25, 10], [37, 34, 19], [38, 35, 20], [4...\n",
       "4   5  automobile  [[[170, 180, 198], [168, 178, 196], [177, 185,..."
      ]
     },
     "execution_count": 16,
     "metadata": {},
     "output_type": "execute_result"
    }
   ],
   "source": [
    "df.head()"
   ]
  },
  {
   "cell_type": "code",
   "execution_count": 17,
   "id": "6bb04147",
   "metadata": {},
   "outputs": [],
   "source": [
    "df.dropna(inplace=True, subset=['image'])"
   ]
  },
  {
   "cell_type": "code",
   "execution_count": null,
   "id": "9fec8678",
   "metadata": {},
   "outputs": [
    {
     "data": {
      "text/plain": [
       "(49999, 3)"
      ]
     },
     "execution_count": 18,
     "metadata": {},
     "output_type": "execute_result"
    }
   ],
   "source": [
    "df.shape"
   ]
  },
  {
   "cell_type": "code",
   "execution_count": 19,
   "id": "d68663c6",
   "metadata": {},
   "outputs": [
    {
     "name": "stdout",
     "output_type": "stream",
     "text": [
      "['frog' 'truck' 'deer' 'automobile' 'bird' 'horse' 'ship' 'cat' 'dog'\n",
      " 'airplane']\n"
     ]
    }
   ],
   "source": [
    "object_classes = df['label'].unique()\n",
    "print(object_classes)"
   ]
  },
  {
   "cell_type": "code",
   "execution_count": 20,
   "id": "d429fd52",
   "metadata": {},
   "outputs": [
    {
     "name": "stdout",
     "output_type": "stream",
     "text": [
      "label\n",
      "frog          5000\n",
      "truck         5000\n",
      "deer          5000\n",
      "bird          5000\n",
      "horse         5000\n",
      "ship          5000\n",
      "cat           5000\n",
      "dog           5000\n",
      "airplane      5000\n",
      "automobile    4999\n",
      "Name: count, dtype: int64\n"
     ]
    }
   ],
   "source": [
    "\n",
    "\n",
    "entries_per_class = df['label'].value_counts()\n",
    "print(entries_per_class) # no need to standardize or scale"
   ]
  },
  {
   "cell_type": "code",
   "execution_count": 21,
   "id": "c902e068",
   "metadata": {},
   "outputs": [
    {
     "name": "stdout",
     "output_type": "stream",
     "text": [
      "{'frog': 0, 'truck': 1, 'deer': 2, 'automobile': 3, 'bird': 4, 'horse': 5, 'ship': 6, 'cat': 7, 'dog': 8, 'airplane': 9}\n"
     ]
    }
   ],
   "source": [
    "# labels_dictionary = dict(enumerate(object_classes))\n",
    "# print(labels_dictionary)\n",
    "labels_map = {}\n",
    "for index, item in enumerate(object_classes):\n",
    "    labels_map[item] = index\n",
    "\n",
    "print(labels_map)"
   ]
  },
  {
   "cell_type": "code",
   "execution_count": 22,
   "id": "e59ff25d",
   "metadata": {},
   "outputs": [
    {
     "data": {
      "text/plain": [
       "(49999, 3)"
      ]
     },
     "execution_count": 22,
     "metadata": {},
     "output_type": "execute_result"
    }
   ],
   "source": [
    "df['label'] = df['label'].map(labels_map)\n",
    "df['image'] = df['image']/255\n",
    "df.head()\n",
    "df.shape"
   ]
  },
  {
   "cell_type": "code",
   "execution_count": 23,
   "id": "966d05fd",
   "metadata": {},
   "outputs": [
    {
     "name": "stdout",
     "output_type": "stream",
     "text": [
      "(39999, 3)\n",
      "(10000, 3)\n"
     ]
    }
   ],
   "source": [
    "num_rows_80_percent = int(len(df) * 0.8)\n",
    "\n",
    "train = df.iloc[:num_rows_80_percent]\n",
    "test = df.iloc[num_rows_80_percent:]\n",
    "\n",
    "print(train.shape)\n",
    "print(test.shape)\n"
   ]
  },
  {
   "cell_type": "code",
   "execution_count": 27,
   "id": "64192136",
   "metadata": {},
   "outputs": [
    {
     "name": "stdout",
     "output_type": "stream",
     "text": [
      "X_train.shape:  (39999,)\n",
      "Y_train.shape:  (39999,)\n",
      "X_test.shape:  (10000,)\n",
      "Y_test.shape:  (10000,)\n"
     ]
    }
   ],
   "source": [
    "X_train = np.array(train['image'])\n",
    "Y_train = np.array(train['label'])\n",
    "\n",
    "X_test = np.array(test['image'])\n",
    "Y_test = np.array(test['label'])\n",
    "\n",
    "print(\"X_train.shape: \", X_train.shape)\n",
    "print(\"Y_train.shape: \", Y_train.shape)\n",
    "\n",
    "print(\"X_test.shape: \", X_test.shape)\n",
    "print(\"Y_test.shape: \", Y_test.shape)\n",
    "\n",
    "\n",
    "\n"
   ]
  },
  {
   "cell_type": "markdown",
   "id": "cd4d5ae4",
   "metadata": {},
   "source": [
    "## Create Neural Net"
   ]
  },
  {
   "cell_type": "markdown",
   "id": "7ca8d084",
   "metadata": {},
   "source": [
    "We shall create the Neural Network"
   ]
  },
  {
   "cell_type": "code",
   "execution_count": 28,
   "id": "d3f2dc1e",
   "metadata": {},
   "outputs": [
    {
     "name": "stderr",
     "output_type": "stream",
     "text": [
      "/Users/ansinha/Library/Python/3.9/lib/python/site-packages/urllib3/__init__.py:35: NotOpenSSLWarning: urllib3 v2 only supports OpenSSL 1.1.1+, currently the 'ssl' module is compiled with 'LibreSSL 2.8.3'. See: https://github.com/urllib3/urllib3/issues/3020\n",
      "  warnings.warn(\n"
     ]
    }
   ],
   "source": [
    "import tensorflow as tf\n",
    "from tensorflow import keras\n",
    "\n"
   ]
  },
  {
   "cell_type": "code",
   "execution_count": 29,
   "id": "d24f9055",
   "metadata": {},
   "outputs": [],
   "source": [
    "num_of_classes = len(object_classes)\n",
    "\n",
    "#setting up layers\n",
    "\n",
    "inputs = keras.Input(shape=(32, 32, 3))\n",
    "x = keras.layers.Flatten()(inputs)\n",
    "x = keras.layers.Dense(64, activation='relu')(x)\n",
    "outputs = keras.layers.Dense(num_of_classes, activation='softmax')(x)\n",
    "\n",
    "model = keras.Model(inputs=inputs, outputs=outputs)"
   ]
  }
 ],
 "metadata": {
  "kernelspec": {
   "display_name": "Python 3",
   "language": "python",
   "name": "python3"
  },
  "language_info": {
   "codemirror_mode": {
    "name": "ipython",
    "version": 3
   },
   "file_extension": ".py",
   "mimetype": "text/x-python",
   "name": "python",
   "nbconvert_exporter": "python",
   "pygments_lexer": "ipython3",
   "version": "3.9.6"
  }
 },
 "nbformat": 4,
 "nbformat_minor": 5
}
